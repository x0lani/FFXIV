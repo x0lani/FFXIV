{
 "cells": [
  {
   "cell_type": "code",
   "execution_count": null,
   "id": "2aa6789d",
   "metadata": {
    "pycharm": {
     "name": "#%%\n"
    }
   },
   "outputs": [],
   "source": [
    "%matplotlib inline"
   ]
  },
  {
   "cell_type": "markdown",
   "id": "7df592cb",
   "metadata": {
    "pycharm": {
     "name": "#%% md\n"
    }
   },
   "source": [
    "Jscript implmementation available at\n",
    "https://super-aardvark.github.io/yuryu/"
   ]
  },
  {
   "cell_type": "code",
   "execution_count": null,
   "id": "5a4a9f46",
   "metadata": {
    "pycharm": {
     "name": "#%%\n"
    }
   },
   "outputs": [],
   "source": [
    "from cactpot.types import *\n",
    "from cactpot import PAYOUT\n",
    "import pandas as pd"
   ]
  },
  {
   "cell_type": "code",
   "execution_count": null,
   "id": "1f40c07a",
   "metadata": {
    "pycharm": {
     "name": "#%%\n"
    }
   },
   "outputs": [],
   "source": [
    "# print 6-15 and 16-24 in columns\n",
    "col1 = [f'{i:2d}: {PAYOUT[i]:5d}' for i in range(6, 16)]\n",
    "col2 = [f'{i:2d}: {PAYOUT[i]:5d}' for i in range(16, 25)]\n",
    "col2.append('')\n",
    "for c1,c2 in zip(col1, col2):\n",
    "    print(c1,'  | ',c2)"
   ]
  },
  {
   "cell_type": "markdown",
   "id": "a6f4e7b5",
   "metadata": {
    "pycharm": {
     "name": "#%%\n"
    }
   },
   "source": [
    "## standard cell\n",
    "```python\n",
    "b = Board([NULL, NULL, NULL,\n",
    "           NULL, NULL, NULL,\n",
    "           NULL, NULL, NULL])\n",
    "print(b)\n",
    "print(f'avg value = {b.max_vector.mean:,.0f}')\n",
    "print(f'stdev = {np.sqrt(b.max_vector.variance):,.0f}')\n",
    "print(b.max_vector.payouts)\n",
    "pd.Series(pd.Series(list(b.max_vector.payouts.elements())), name='payout').hist()\n",
    "```"
   ]
  },
  {
   "cell_type": "code",
   "execution_count": null,
   "id": "406c9015",
   "metadata": {
    "pycharm": {
     "name": "#%%\n"
    }
   },
   "outputs": [],
   "source": [
    "b = Board([NULL, NULL, NULL,\n",
    "           NULL, NULL, NULL,\n",
    "           NULL, NULL, NULL])\n",
    "print(b)\n",
    "print(f'avg value = {b.max_vector.mean:,.0f}')\n",
    "print(f'stdev = {np.sqrt(b.max_vector.variance):,.0f}')\n",
    "print(b.max_vector.payouts)\n",
    "pd.Series(pd.Series(list(b.max_vector.payouts.elements())), name='payout').hist()"
   ]
  },
  {
   "cell_type": "code",
   "execution_count": null,
   "id": "5172deff",
   "metadata": {
    "pycharm": {
     "name": "#%%\n"
    }
   },
   "outputs": [],
   "source": [
    "b = Board([NULL, NULL, NULL,\n",
    "           NULL, NULL, NULL,\n",
    "           NULL, NULL, NULL])\n",
    "print(b)\n",
    "print(f'avg value = {b.max_vector.mean:,.0f}')\n",
    "print(f'stdev = {np.sqrt(b.max_vector.variance):,.0f}')\n",
    "print(b.max_vector.payouts)\n",
    "pd.Series(pd.Series(list(b.max_vector.payouts.elements())), name='payout').hist()"
   ]
  },
  {
   "cell_type": "code",
   "execution_count": null,
   "id": "7e45e0cb",
   "metadata": {
    "pycharm": {
     "name": "#%%\n"
    }
   },
   "outputs": [],
   "source": [
    "b = Board([NULL, NULL, NULL,\n",
    "           NULL, NULL, NULL,\n",
    "           NULL, NULL, NULL])\n",
    "print(b)\n",
    "print(f'avg value = {b.max_vector.mean:,.0f}')\n",
    "print(f'stdev = {np.sqrt(b.max_vector.variance):,.0f}')\n",
    "print(b.max_vector.payouts)\n",
    "pd.Series(pd.Series(list(b.max_vector.payouts.elements())), name='payout').hist()"
   ]
  },
  {
   "cell_type": "code",
   "execution_count": null,
   "id": "f5a04af2",
   "metadata": {
    "pycharm": {
     "name": "#%%\n"
    }
   },
   "outputs": [],
   "source": [
    "b = Board([NULL, NULL, NULL,\n",
    "           NULL, NULL, NULL,\n",
    "           NULL, NULL, NULL])\n",
    "print(b)\n",
    "print(f'avg value = {b.max_vector.mean:,.0f}')\n",
    "print(f'stdev = {np.sqrt(b.max_vector.variance):,.0f}')\n",
    "print(b.max_vector.payouts)\n",
    "pd.Series(pd.Series(list(b.max_vector.payouts.elements())), name='payout').hist()"
   ]
  },
  {
   "cell_type": "code",
   "execution_count": null,
   "id": "cdaf36b7",
   "metadata": {
    "pycharm": {
     "name": "#%%\n"
    }
   },
   "outputs": [],
   "source": []
  }
 ],
 "metadata": {
  "kernelspec": {
   "display_name": "Python 3 (ipykernel)",
   "language": "python",
   "name": "python3"
  },
  "language_info": {
   "codemirror_mode": {
    "name": "ipython",
    "version": 3
   },
   "file_extension": ".py",
   "mimetype": "text/x-python",
   "name": "python",
   "nbconvert_exporter": "python",
   "pygments_lexer": "ipython3",
   "version": "3.9.7"
  }
 },
 "nbformat": 4,
 "nbformat_minor": 5
}
