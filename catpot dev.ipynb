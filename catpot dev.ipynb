{
 "cells": [
  {
   "cell_type": "code",
   "execution_count": 1,
   "id": "2aa6789d",
   "metadata": {
    "pycharm": {
     "name": "#%%\n"
    }
   },
   "outputs": [],
   "source": [
    "%matplotlib inline"
   ]
  },
  {
   "cell_type": "code",
   "execution_count": 8,
   "id": "5a4a9f46",
   "metadata": {
    "pycharm": {
     "name": "#%%\n"
    }
   },
   "outputs": [],
   "source": [
    "from cactpot.types import *\n",
    "from cactpot import PAYOUT\n",
    "import pandas as pd"
   ]
  },
  {
   "cell_type": "code",
   "execution_count": 9,
   "id": "1f40c07a",
   "metadata": {
    "pycharm": {
     "name": "#%%\n"
    }
   },
   "outputs": [
    {
     "name": "stdout",
     "output_type": "stream",
     "text": [
      " 6: 10000   |  16:    72\n",
      " 7:    36   |  17:   180\n",
      " 8:   720   |  18:   119\n",
      " 9:   360   |  19:    36\n",
      "10:    80   |  20:   306\n",
      "11:   252   |  21:  1080\n",
      "12:   108   |  22:   144\n",
      "13:    72   |  23:  1800\n",
      "14:    54   |  24:  3600\n",
      "15:   180   |  \n"
     ]
    }
   ],
   "source": [
    "# print 6-15 and 16-24 in columns\n",
    "col1 = [f'{i:2d}: {PAYOUT[i]:5d}' for i in range(6, 16)]\n",
    "col2 = [f'{i:2d}: {PAYOUT[i]:5d}' for i in range(16, 25)]\n",
    "col2.append('')\n",
    "for c1,c2 in zip(col1, col2):\n",
    "    print(c1,'  | ',c2)"
   ]
  },
  {
   "cell_type": "code",
   "execution_count": 10,
   "id": "8917638a",
   "metadata": {
    "pycharm": {
     "name": "#%%\n"
    }
   },
   "outputs": [
    {
     "name": "stdout",
     "output_type": "stream",
     "text": [
      ".....\n",
      ".___ \n",
      "._*_ \n",
      "→___ \n",
      "avg value = 1,182\n",
      "stdev = 2,448\n",
      "Counter({72: 15, 180: 15, 54: 8, 108: 7, 119: 7, 36: 6, 252: 5, 80: 4, 306: 4, 360: 3, 1080: 3, 720: 2, 144: 2, 10000: 1, 1800: 1, 3600: 1})\n"
     ]
    }
   ],
   "source": [
    "# b = Board([NULL, NULL, NULL,\n",
    "#            NULL, NULL, NULL,\n",
    "#            NULL, NULL, NULL])\n",
    "b = Board([NULL, NULL, NULL,\n",
    "           NULL, NULL, NULL,\n",
    "           NULL, NULL, NULL])\n",
    "print(b)\n",
    "print(f'avg value = {b.max_vector.mean:,.0f}')\n",
    "print(f'stdev = {np.sqrt(b.max_vector.variance):,.0f}')\n",
    "print(b.max_vector.payouts)"
   ]
  },
  {
   "cell_type": "code",
   "execution_count": 18,
   "id": "406c9015",
   "metadata": {
    "pycharm": {
     "name": "#%%\n"
    }
   },
   "outputs": [
    {
     "name": "stdout",
     "output_type": "stream",
     "text": [
      ".....\n",
      ".678 \n",
      "→_3* \n",
      ".___ \n",
      "avg value = 1,447\n",
      "stdev = 3,240\n"
     ]
    },
    {
     "data": {
      "text/plain": [
       "<AxesSubplot:>"
      ]
     },
     "execution_count": 18,
     "metadata": {},
     "output_type": "execute_result"
    },
    {
     "data": {
      "image/png": "[encoded data removed]",
      "text/plain": [
       "<Figure size 432x288 with 1 Axes>"
      ]
     },
     "metadata": {
      "needs_background": "light"
     },
     "output_type": "display_data"
    }
   ],
   "source": [
    "b = Board([6, 7, 8,\n",
    "           NULL, 3, NULL,\n",
    "           NULL, NULL, NULL])\n",
    "print(b)\n",
    "print(f'avg value = {b.max_vector.mean:,.0f}')\n",
    "print(f'stdev = {np.sqrt(b.max_vector.variance):,.0f}')\n",
    "pd.Series(pd.Series(list(b.max_vector.payouts.elements())), name='payout').hist()"
   ]
  },
  {
   "cell_type": "code",
   "execution_count": 21,
   "id": "51296242",
   "metadata": {
    "pycharm": {
     "name": "#%%\n"
    }
   },
   "outputs": [
    {
     "name": "stdout",
     "output_type": "stream",
     "text": [
      "↘....\n",
      ".9__ \n",
      "._8_ \n",
      ".3*4 \n",
      "avg value = 1,080\n",
      "stdev = 0\n",
      "Counter({1080: 1})\n"
     ]
    }
   ],
   "source": [
    "b = Board([9, NULL, NULL,\n",
    "           NULL, 8, NULL,\n",
    "           3, NULL, 4])\n",
    "print(b)\n",
    "print(f'avg value = {b.max_vector.mean:,.0f}')\n",
    "print(f'stdev = {np.sqrt(b.max_vector.variance):,.0f}')\n",
    "print(b.max_vector.payouts)"
   ]
  },
  {
   "cell_type": "markdown",
   "id": "7df592cb",
   "metadata": {
    "pycharm": {
     "name": "#%% md\n"
    }
   },
   "source": [
    "Jscript implmenetation\n",
    "https://super-aardvark.github.io/yuryu/"
   ]
  },
  {
   "cell_type": "code",
   "execution_count": null,
   "id": "29490787",
   "metadata": {
    "pycharm": {
     "name": "#%%\n"
    }
   },
   "outputs": [],
   "source": [
    "import pandas as pd"
   ]
  },
  {
   "cell_type": "code",
   "execution_count": null,
   "id": "4974d932",
   "metadata": {
    "pycharm": {
     "name": "#%%\n"
    }
   },
   "outputs": [],
   "source": [
    "payouts = pd.Series(pd.Series(list(b.max_vector.payouts.elements())), name='payout')\n",
    "payouts.hist()"
   ]
  },
  {
   "cell_type": "code",
   "execution_count": null,
   "id": "cdaf36b7",
   "metadata": {
    "pycharm": {
     "name": "#%%\n"
    }
   },
   "outputs": [],
   "source": []
  }
 ],
 "metadata": {
  "kernelspec": {
   "display_name": "Python 3 (ipykernel)",
   "language": "python",
   "name": "python3"
  },
  "language_info": {
   "codemirror_mode": {
    "name": "ipython",
    "version": 3
   },
   "file_extension": ".py",
   "mimetype": "text/x-python",
   "name": "python",
   "nbconvert_exporter": "python",
   "pygments_lexer": "ipython3",
   "version": "3.10.2"
  }
 },
 "nbformat": 4,
 "nbformat_minor": 5
}
