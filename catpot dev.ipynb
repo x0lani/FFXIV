{
 "cells": [
  {
   "cell_type": "code",
   "execution_count": 14,
   "id": "68b3916d",
   "metadata": {
    "pycharm": {
     "name": "#%%\n"
    }
   },
   "outputs": [
    {
     "data": {
      "text/plain": [
       "{6: 10000,\n",
       " 7: 36,\n",
       " 8: 720,\n",
       " 9: 360,\n",
       " 10: 80,\n",
       " 11: 252,\n",
       " 12: 108,\n",
       " 13: 72,\n",
       " 14: 54,\n",
       " 15: 180,\n",
       " 16: 72,\n",
       " 17: 180,\n",
       " 18: 119,\n",
       " 19: 36,\n",
       " 20: 306,\n",
       " 21: 1080,\n",
       " 22: 144,\n",
       " 23: 1800,\n",
       " 24: 3600}"
      ]
     },
     "execution_count": 14,
     "metadata": {},
     "output_type": "execute_result"
    }
   ],
   "source": [
    "from cactpot.types import *\n",
    "from cactpot import PAYOUT\n",
    "\n",
    "PAYOUT"
   ]
  },
  {
   "cell_type": "code",
   "execution_count": 2,
   "id": "406c9015",
   "metadata": {},
   "outputs": [
    {
     "name": "stdout",
     "output_type": "stream",
     "text": [
      ".....\n",
      ".___ \n",
      "._*_ \n",
      "→___ \n",
      "avg value = 360\n",
      "stdev = 1,153\n"
     ]
    }
   ],
   "source": [
    "b = Board([NULL, NULL, NULL,\n",
    "           NULL, NULL, NULL,\n",
    "           NULL, NULL, NULL])\n",
    "print(b)\n",
    "print(f'avg value = {b.vectors[b.max_vector].mean:,.0f}')\n",
    "print(f'stdev = {np.sqrt(b.vectors[b.max_vector].variance):,.0f}')"
   ]
  },
  {
   "cell_type": "code",
   "execution_count": 15,
   "id": "50064bfa",
   "metadata": {},
   "outputs": [
    {
     "name": "stdout",
     "output_type": "stream",
     "text": [
      ".↓...\n",
      ".628 \n",
      ".973 \n",
      ".514 \n",
      "avg value = 306\n",
      "stdev = 0\n"
     ]
    }
   ],
   "source": [
    "b = Board([6, 2, 8,\n",
    "           9, 7, 3,\n",
    "           5, 1, 4])\n",
    "\n",
    "print(b)\n",
    "print(f'avg value = {b.vectors[b.max_vector].mean:,.0f}')\n",
    "print(f'stdev = {np.sqrt(b.vectors[b.max_vector].variance):,.0f}')"
   ]
  },
  {
   "cell_type": "code",
   "execution_count": null,
   "id": "8917638a",
   "metadata": {},
   "outputs": [],
   "source": [
    "# b = Board([NULL, NULL, NULL,\n",
    "#            NULL, NULL, NULL,\n",
    "#            NULL, NULL, NULL])\n",
    "b = Board([5, NULL, 1,\n",
    "           NULL, 3, NULL,\n",
    "           8, NULL, NULL])\n",
    "print(b)\n",
    "print(f'avg value = {b.vectors[b.max_vector].mean:,.0f}')\n",
    "print(f'stdev = {np.sqrt(b.vectors[b.max_vector].variance):,.0f}')"
   ]
  },
  {
   "cell_type": "code",
   "execution_count": 16,
   "id": "98b5df35",
   "metadata": {},
   "outputs": [
    {
     "name": "stdout",
     "output_type": "stream",
     "text": [
      "...↓.\n",
      ".49_ \n",
      "._7_ \n",
      ".*6_ \n",
      "avg value = 1,190\n",
      "stdev = 2,943\n"
     ]
    }
   ],
   "source": [
    "# b = Board([NULL, NULL, NULL,\n",
    "#            NULL, NULL, NULL,\n",
    "#            NULL, NULL, NULL])\n",
    "b = Board([4, 9, NULL,\n",
    "           NULL, 7, NULL,\n",
    "           NULL, 6, NULL])\n",
    "print(b)\n",
    "print(f'avg value = {b.vectors[b.max_vector].mean:,.0f}')\n",
    "print(f'stdev = {np.sqrt(b.vectors[b.max_vector].variance):,.0f}')\n"
   ]
  },
  {
   "cell_type": "code",
   "execution_count": 5,
   "id": "8ae2571f",
   "metadata": {
    "pycharm": {
     "name": "#%%\n"
    }
   },
   "outputs": [
    {
     "data": {
      "text/plain": [
       "{6: 10000,\n",
       " 7: 36,\n",
       " 8: 720,\n",
       " 9: 360,\n",
       " 10: 80,\n",
       " 11: 252,\n",
       " 12: 108,\n",
       " 13: 72,\n",
       " 14: 54,\n",
       " 15: 180,\n",
       " 16: 72,\n",
       " 17: 180,\n",
       " 18: 119,\n",
       " 19: 36,\n",
       " 20: 306,\n",
       " 21: 1080,\n",
       " 22: 144,\n",
       " 23: 1800,\n",
       " 24: 3600}"
      ]
     },
     "execution_count": 5,
     "metadata": {},
     "output_type": "execute_result"
    }
   ],
   "source": [
    "from cactpot import PAYOUT\n",
    "\n",
    "PAYOUT"
   ]
  },
  {
   "cell_type": "code",
   "execution_count": 2,
   "id": "51296242",
   "metadata": {
    "pycharm": {
     "name": "#%%\n"
    }
   },
   "outputs": [
    {
     "name": "stdout",
     "output_type": "stream",
     "text": [
      ".....\n",
      "→123 \n",
      ".456 \n",
      ".789 \n"
     ]
    }
   ],
   "source": [
    "b = Board([1, 2, 3, 4, 5, 6, 7, 8, 9])\n",
    "print(b)"
   ]
  },
  {
   "cell_type": "markdown",
   "id": "7df592cb",
   "metadata": {
    "pycharm": {
     "name": "#%% md\n"
    }
   },
   "source": [
    "Jscript implmenetation\n",
    "https://super-aardvark.github.io/yuryu/"
   ]
  },
  {
   "cell_type": "code",
   "execution_count": 16,
   "id": "6169faa3",
   "metadata": {
    "pycharm": {
     "name": "#%%\n"
    }
   },
   "outputs": [
    {
     "name": "stdout",
     "output_type": "stream",
     "text": [
      ".....\n",
      ".756 \n",
      "→*1_ \n",
      ".___ \n",
      "avg value = 1,154\n",
      "stdev = 2,955\n"
     ]
    }
   ],
   "source": [
    "# b = Board([NULL, NULL, NULL,\n",
    "#            NULL, NULL, NULL,\n",
    "#            NULL, NULL, NULL])\n",
    "b = Board([7, 5, 6,\n",
    "           NULL, 1, NULL,\n",
    "           NULL, NULL, NULL])\n",
    "print(b)\n",
    "print(f'avg value = {b.vectors[b.max_vector].mean:,.0f}')\n",
    "print(f'stdev = {np.sqrt(b.vectors[b.max_vector].variance):,.0f}')"
   ]
  },
  {
   "cell_type": "code",
   "execution_count": 17,
   "id": "64e6cdbd",
   "metadata": {
    "pycharm": {
     "name": "#%%\n"
    }
   },
   "outputs": [
    {
     "name": "stdout",
     "output_type": "stream",
     "text": [
      ".↓...\n",
      ".93_ \n",
      "._7_ \n",
      ".*_1 \n",
      "avg value = 395\n",
      "stdev = 552\n"
     ]
    }
   ],
   "source": [
    "# b = Board([NULL, NULL, NULL,\n",
    "#            NULL, NULL, NULL,\n",
    "#            NULL, NULL, NULL])\n",
    "b = Board([9, 3, NULL,\n",
    "           NULL, 7, NULL,\n",
    "           NULL, NULL, 1])\n",
    "print(b)\n",
    "print(f'avg value = {b.vectors[b.max_vector].mean:,.0f}')\n",
    "print(f'stdev = {np.sqrt(b.vectors[b.max_vector].variance):,.0f}')"
   ]
  },
  {
   "cell_type": "code",
   "execution_count": 18,
   "id": "3a22b3e6",
   "metadata": {},
   "outputs": [
    {
     "name": "stdout",
     "output_type": "stream",
     "text": [
      "..↓..\n",
      ".5*4 \n",
      "._39 \n",
      ".___ \n",
      "avg value = 1,124\n",
      "stdev = 2,959\n"
     ]
    }
   ],
   "source": [
    "# b = Board([NULL, NULL, NULL,\n",
    "#            NULL, NULL, NULL,\n",
    "#            NULL, NULL, NULL])\n",
    "b = Board([5, NULL, 4,\n",
    "           NULL, 3, 9,\n",
    "           NULL, NULL, NULL])\n",
    "print(b)\n",
    "print(f'avg value = {b.vectors[b.max_vector].mean:,.0f}')\n",
    "print(f'stdev = {np.sqrt(b.vectors[b.max_vector].variance):,.0f}')"
   ]
  },
  {
   "cell_type": "code",
   "execution_count": 12,
   "id": "4befe0dd",
   "metadata": {},
   "outputs": [
    {
     "name": "stdout",
     "output_type": "stream",
     "text": [
      ".....\n",
      ".4__ \n",
      "._*_ \n",
      "→___ \n"
     ]
    }
   ],
   "source": [
    "b = Board([4, NULL, NULL,\n",
    "           NULL, NULL, NULL,\n",
    "           NULL, NULL, NULL])\n",
    "print(b)"
   ]
  },
  {
   "cell_type": "code",
   "execution_count": 13,
   "id": "c0e32214",
   "metadata": {},
   "outputs": [
    {
     "data": {
      "text/plain": [
       "{1, 2, 3, 5, 6, 7, 8, 9}"
      ]
     },
     "execution_count": 13,
     "metadata": {},
     "output_type": "execute_result"
    }
   ],
   "source": [
    "b.available"
   ]
  },
  {
   "cell_type": "code",
   "execution_count": 14,
   "id": "e3173837",
   "metadata": {},
   "outputs": [
    {
     "data": {
      "text/plain": [
       "{'a': <Vector >,\n",
       " 'b': <Vector >,\n",
       " 'c': <Vector 4>,\n",
       " 'd': <Vector 4>,\n",
       " 'e': <Vector 4>,\n",
       " 'f': <Vector >,\n",
       " 'g': <Vector >,\n",
       " 'h': <Vector >}"
      ]
     },
     "execution_count": 14,
     "metadata": {},
     "output_type": "execute_result"
    }
   ],
   "source": [
    "b.vectors"
   ]
  },
  {
   "cell_type": "code",
   "execution_count": 15,
   "id": "4d860536",
   "metadata": {},
   "outputs": [
    {
     "name": "stdout",
     "output_type": "stream",
     "text": [
      "a <Vector() μ=449 V=1,947,855>\n",
      "b <Vector() μ=449 V=1,947,855>\n",
      "c <Vector(4) μ=184 V=48,608>\n",
      "d <Vector(4) μ=184 V=48,608>\n",
      "e <Vector(4) μ=184 V=48,608>\n",
      "f <Vector() μ=449 V=1,947,855>\n",
      "g <Vector() μ=449 V=1,947,855>\n",
      "h <Vector() μ=449 V=1,947,855>\n"
     ]
    }
   ],
   "source": [
    "for k,v in b.vectors.items():\n",
    "    print(k, v)"
   ]
  },
  {
   "cell_type": "code",
   "execution_count": 16,
   "id": "df95db80",
   "metadata": {},
   "outputs": [
    {
     "data": {
      "text/plain": [
       "9885097.567283161"
      ]
     },
     "execution_count": 16,
     "metadata": {},
     "output_type": "execute_result"
    }
   ],
   "source": [
    "b.total_variance"
   ]
  },
  {
   "cell_type": "code",
   "execution_count": 17,
   "id": "97f81d9e",
   "metadata": {},
   "outputs": [
    {
     "name": "stdout",
     "output_type": "stream",
     "text": [
      "1 \t -61718.17524234392\n",
      "2 \t -77051.50383644737\n",
      "3 \t -61718.17524234578\n",
      "4 \t -92384.83243055269\n",
      "5 \t -74680.69658021256\n",
      "6 \t -77051.50383644924\n",
      "7 \t -74680.69658021256\n",
      "8 \t -77051.50383644924\n"
     ]
    }
   ],
   "source": [
    "for i in range(1,9):\n",
    "    print(i,'\\t', b.var_reduce(i))"
   ]
  },
  {
   "cell_type": "code",
   "execution_count": null,
   "id": "db0ab29d",
   "metadata": {},
   "outputs": [],
   "source": []
  }
 ],
 "metadata": {
  "kernelspec": {
   "display_name": "Python 3 (ipykernel)",
   "language": "python",
   "name": "python3"
  },
  "language_info": {
   "codemirror_mode": {
    "name": "ipython",
    "version": 3
   },
   "file_extension": ".py",
   "mimetype": "text/x-python",
   "name": "python",
   "nbconvert_exporter": "python",
   "pygments_lexer": "ipython3",
   "version": "3.9.7"
  }
 },
 "nbformat": 4,
 "nbformat_minor": 5
}
