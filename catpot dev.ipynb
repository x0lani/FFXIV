{
 "cells": [
  {
   "cell_type": "code",
   "execution_count": 1,
   "id": "68b3916d",
   "metadata": {
    "pycharm": {
     "name": "#%%\n"
    }
   },
   "outputs": [
    {
     "data": {
      "text/plain": "{6: 10000,\n 7: 36,\n 8: 720,\n 9: 360,\n 10: 80,\n 11: 252,\n 12: 108,\n 13: 72,\n 14: 54,\n 15: 180,\n 16: 72,\n 17: 180,\n 18: 119,\n 19: 36,\n 20: 306,\n 21: 1080,\n 22: 144,\n 23: 1800,\n 24: 3600}"
     },
     "execution_count": 1,
     "metadata": {},
     "output_type": "execute_result"
    }
   ],
   "source": [
    "from cactpot.types import *\n",
    "from cactpot import PAYOUT\n",
    "\n",
    "# print 6-15 and 16-24 in columns\n",
    "PAYOUT"
   ]
  },
  {
   "cell_type": "code",
   "execution_count": 4,
   "id": "8917638a",
   "metadata": {
    "pycharm": {
     "name": "#%%\n"
    }
   },
   "outputs": [
    {
     "name": "stdout",
     "output_type": "stream",
     "text": [
      ".....\n",
      ".___ \n",
      "._*_ \n",
      "→___ \n",
      "avg value = 1,182\n",
      "stdev = 2,448\n",
      "Counter({72: 15, 180: 15, 54: 8, 108: 7, 119: 7, 36: 6, 252: 5, 80: 4, 306: 4, 360: 3, 1080: 3, 720: 2, 144: 2, 10000: 1, 1800: 1, 3600: 1})\n"
     ]
    }
   ],
   "source": [
    "# b = Board([NULL, NULL, NULL,\n",
    "#            NULL, NULL, NULL,\n",
    "#            NULL, NULL, NULL])\n",
    "b = Board([NULL, NULL, NULL,\n",
    "           NULL, NULL, NULL,\n",
    "           NULL, NULL, NULL])\n",
    "print(b)\n",
    "print(f'avg value = {b.max_vector.mean:,.0f}')\n",
    "print(f'stdev = {np.sqrt(b.max_vector.variance):,.0f}')\n",
    "print(b.max_vector.payouts)"
   ]
  },
  {
   "cell_type": "code",
   "execution_count": 8,
   "id": "406c9015",
   "metadata": {
    "pycharm": {
     "name": "#%%\n"
    }
   },
   "outputs": [
    {
     "name": "stdout",
     "output_type": "stream",
     "text": [
      ".....\n",
      "→*_7 \n",
      "._5_ \n",
      ".4_2 \n",
      "avg value = 615\n",
      "stdev = 1,098\n",
      "Counter({72: 2, 252: 1, 54: 1, 180: 1, 119: 1, 36: 1, 1080: 1, 144: 1, 3600: 1})\n"
     ]
    }
   ],
   "source": [
    "b = Board([NULL, NULL, 7,\n",
    "           NULL, 5, NULL,\n",
    "           4, NULL, 2])\n",
    "print(b)\n",
    "print(f'avg value = {b.max_vector.mean:,.0f}')\n",
    "print(f'stdev = {np.sqrt(b.max_vector.variance):,.0f}')\n",
    "print(b.max_vector.payouts)"
   ]
  },
  {
   "cell_type": "code",
   "execution_count": 10,
   "id": "51296242",
   "metadata": {
    "pycharm": {
     "name": "#%%\n"
    }
   },
   "outputs": [
    {
     "name": "stdout",
     "output_type": "stream",
     "text": [
      ".....\n",
      "→123 \n",
      ".456 \n",
      ".789 \n",
      "avg value = 10,000\n",
      "stdev = 0\n",
      "Counter({10000: 1})\n"
     ]
    }
   ],
   "source": [
    "b = Board([1, 2, 3, 4, 5, 6, 7, 8, 9])\n",
    "print(b)\n",
    "print(f'avg value = {b.max_vector.mean:,.0f}')\n",
    "print(f'stdev = {np.sqrt(b.max_vector.variance):,.0f}')\n",
    "print(b.max_vector.payouts)"
   ]
  },
  {
   "cell_type": "markdown",
   "id": "7df592cb",
   "metadata": {
    "pycharm": {
     "name": "#%% md\n"
    }
   },
   "source": [
    "Jscript implmenetation\n",
    "https://super-aardvark.github.io/yuryu/"
   ]
  },
  {
   "cell_type": "code",
   "execution_count": null,
   "outputs": [],
   "source": [],
   "metadata": {
    "collapsed": false,
    "pycharm": {
     "name": "#%%\n"
    }
   }
  }
 ],
 "metadata": {
  "kernelspec": {
   "display_name": "Python 3 (ipykernel)",
   "language": "python",
   "name": "python3"
  },
  "language_info": {
   "codemirror_mode": {
    "name": "ipython",
    "version": 3
   },
   "file_extension": ".py",
   "mimetype": "text/x-python",
   "name": "python",
   "nbconvert_exporter": "python",
   "pygments_lexer": "ipython3",
   "version": "3.9.7"
  }
 },
 "nbformat": 4,
 "nbformat_minor": 5
}